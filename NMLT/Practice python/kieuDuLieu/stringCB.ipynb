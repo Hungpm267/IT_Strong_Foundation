{
 "cells": [
  {
   "cell_type": "code",
   "execution_count": null,
   "id": "e301509f",
   "metadata": {},
   "outputs": [
    {
     "name": "stdout",
     "output_type": "stream",
     "text": [
      "hung dep trai nhat viet nam nha fen\n"
     ]
    }
   ],
   "source": [
    "'''cộng chuỗi'''\n",
    "a = 'hung dep trai '\n",
    "b = 'nhat viet nam nha fen'\n",
    "print(a+b)"
   ]
  },
  {
   "cell_type": "code",
   "execution_count": 7,
   "id": "346475ee",
   "metadata": {},
   "outputs": [
    {
     "name": "stdout",
     "output_type": "stream",
     "text": [
      "hung \n",
      "manh \n",
      "pham\n"
     ]
    }
   ],
   "source": [
    "s = '''hung \n",
    "manh \n",
    "pham'''\n",
    "print(s)"
   ]
  },
  {
   "cell_type": "code",
   "execution_count": null,
   "id": "6a51470e",
   "metadata": {},
   "outputs": [
    {
     "name": "stdout",
     "output_type": "stream",
     "text": [
      "dung roi\n"
     ]
    }
   ],
   "source": [
    "'''kiểm tra chuỗi trong chuỗi'''\n",
    "str1 = 'pham manh hung hoc uit-vnuhcm'\n",
    "str2 = 'uit'\n",
    "print('dung roi') if str2 in str1 else print('sai')"
   ]
  },
  {
   "cell_type": "code",
   "execution_count": 19,
   "id": "a049aa6b",
   "metadata": {},
   "outputs": [
    {
     "name": "stdout",
     "output_type": "stream",
     "text": [
      "Hung Dep Trai Nhat Viet Nam\n",
      "HUNG DEP TRAI NHAT VIET NAM\n",
      "hung dep trai nhat viet nam\n",
      "False\n"
     ]
    }
   ],
   "source": [
    "words = 'hung dep trai nhat viet nam'\n",
    "list_words = words.split()\n",
    "chuoi = ' '.join(word.capitalize() for word in list_words)\n",
    "print(chuoi)\n",
    "print(chuoi.upper())\n",
    "print(chuoi.lower())\n",
    "print(chuoi.isalnum())"
   ]
  },
  {
   "cell_type": "code",
   "execution_count": 26,
   "id": "5538fee1",
   "metadata": {},
   "outputs": [
    {
     "name": "stdout",
     "output_type": "stream",
     "text": [
      "39\n",
      "9\n",
      "tìm cntt trong chuỗi:  13\n",
      "tìm dep trong chuỗi(-1 nếu ko có):  -1\n"
     ]
    }
   ],
   "source": [
    "'''dếm số lượng chuỗi con'''\n",
    "\n",
    "words = 'hung la idol cntt, dau tu va kinh doanh'\n",
    "o = words.split()\n",
    "print(len(words))\n",
    "print(len(o))\n",
    "\n",
    "print('tìm cntt trong chuỗi: ', words.find('cntt'))\n",
    "print('tìm dep trong chuỗi(-1 nếu ko có): ', words.find('dep'))"
   ]
  },
  {
   "cell_type": "code",
   "execution_count": 29,
   "id": "91193294",
   "metadata": {},
   "outputs": [
    {
     "name": "stdout",
     "output_type": "stream",
     "text": [
      "hung la so 1 vietnam cntt, dau tu va kinh doanh\n"
     ]
    }
   ],
   "source": [
    "words = 'hung la idol cntt, dau tu va kinh doanh'\n",
    "words = words.replace('idol', 'so 1 vietnam')\n",
    "print(words)"
   ]
  },
  {
   "cell_type": "code",
   "execution_count": 1,
   "id": "1d6d94f7",
   "metadata": {},
   "outputs": [
    {
     "name": "stdout",
     "output_type": "stream",
     "text": [
      "['hung', 'la', 'idol', 'cntt,', 'dau', 'tu', 'va', 'kinh', 'doanh']\n",
      "g la idol c\n"
     ]
    }
   ],
   "source": [
    "'''cắt chuỗi thành 1 list\n",
    "==> hàm split hoặc s[0:10]'''\n",
    "\n",
    "words = 'hung la idol cntt, dau tu va kinh doanh'\n",
    "tus = words.split(' ')\n",
    "print(tus)\n",
    "print(words[3:14])"
   ]
  },
  {
   "cell_type": "code",
   "execution_count": null,
   "id": "46c6f052",
   "metadata": {},
   "outputs": [],
   "source": []
  }
 ],
 "metadata": {
  "kernelspec": {
   "display_name": "Python 3",
   "language": "python",
   "name": "python3"
  },
  "language_info": {
   "codemirror_mode": {
    "name": "ipython",
    "version": 3
   },
   "file_extension": ".py",
   "mimetype": "text/x-python",
   "name": "python",
   "nbconvert_exporter": "python",
   "pygments_lexer": "ipython3",
   "version": "3.13.2"
  }
 },
 "nbformat": 4,
 "nbformat_minor": 5
}
