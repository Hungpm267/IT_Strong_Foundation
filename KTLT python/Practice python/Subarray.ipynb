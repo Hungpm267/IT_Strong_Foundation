{
 "cells": [
  {
   "cell_type": "markdown",
   "id": "4ee456d1",
   "metadata": {},
   "source": [
    "#\n",
    "📘 Bài 1: Subarray có tổng bằng K, Đề bài:\n",
    "- Cho một mảng số nguyên nums và một số nguyên k, đếm số subarray liên tiếp có tổng bằng k.\n",
    "- Input: nums = [1, 1, 1], k = 2\n",
    "- Output: 2"
   ]
  },
  {
   "cell_type": "code",
   "execution_count": 8,
   "id": "f3279020",
   "metadata": {},
   "outputs": [
    {
     "name": "stdout",
     "output_type": "stream",
     "text": [
      "tong so subsarray lien tiep co tong bang 2 la: 2\n"
     ]
    }
   ],
   "source": [
    "''' dictionary.get(key, default) '''\n",
    "class solution():\n",
    "    def bai1_brutforce(nums, k):\n",
    "        count = 0\n",
    "        for index in range(0, len(nums)):\n",
    "            tong = 0\n",
    "            if(nums[index] < k):\n",
    "                tong += nums[index]\n",
    "                for index2 in range(index+1, len(nums)):\n",
    "                    tong += nums[index2]\n",
    "                    if tong == k:\n",
    "                        count += 1\n",
    "                    elif tong > k:\n",
    "                        break\n",
    "        return count\n",
    "    def bai1_prefixSum_tecnique(nums, k):\n",
    "        prefix_sum = 0\n",
    "        count = 0 \n",
    "        dict = {0: 1}\n",
    "        for num in nums:\n",
    "            prefix_sum += num\n",
    "            if prefix_sum - k in dict:\n",
    "                count += dict[prefix_sum - k]\n",
    "            dict[prefix_sum] = dict.get(prefix_sum, 0) +1\n",
    "        return count\n",
    "\n",
    "\n",
    "nums = [1,1,1]\n",
    "k = 2\n",
    "print(f'tong so subsarray lien tiep co tong bang {k} la: {solution.bai1_prefixSum_tecnique(nums, k)}')    \n",
    "\n",
    "\n"
   ]
  },
  {
   "cell_type": "markdown",
   "id": "9c3d8c65",
   "metadata": {},
   "source": [
    "#\n",
    "📘 Bài 2: Subarray có độ dài lớn nhất với tổng bằng K, Đề bài:\n",
    "- Tìm độ dài dài nhất của subarray có tổng bằng đúng k.\n",
    "- Input: nums = [1, -1, 5, -2, 3], k = 3\n",
    "- Output: 4 (subarray [1, -1, 5, -2])"
   ]
  },
  {
   "cell_type": "markdown",
   "id": "c466d119",
   "metadata": {},
   "source": [
    "#\n",
    "📘 Bài 3: Subarray có tổng lớn nhất (Maximum Subarray),Đề bài:\n",
    "- Tìm subarray liên tiếp có tổng lớn nhất. (Kinh điển - Kadane's Algorithm)\n",
    "- Input: [-2,1,-3,4,-1,2,1,-5,4]\n",
    "- Output: 6 (subarray [4,-1,2,1])"
   ]
  },
  {
   "cell_type": "markdown",
   "id": "b78020e6",
   "metadata": {},
   "source": [
    "📘 Bài 4: Số lượng subarray có tổng chia hết cho K\n",
    "- Đề bài:\n",
    "- Cho mảng nums và số k, đếm số subarray có tổng chia hết cho k.\n",
    "\n",
    "- Input: nums = [4,5,0,-2,-3,1], k = 5\n",
    "- Output: 7\n",
    "\n",
    "- Gợi ý: Dùng prefix sum modulo và dictionary để đếm số lần xuất hiện cùng một phần dư.\n",
    "\n",
    "📘 Bài 5: Subarray có độ dài lớn nhất sao cho tất cả phần tử đều khác nhau\n",
    "- Input: [5, 1, 3, 5, 2, 3, 4, 1]\n",
    "- Output: 5 (subarray [5, 2, 3, 4, 1])\n",
    "\n",
    "- Gợi ý: Sử dụng sliding window + set/dictionary.\n",
    "\n",
    "📘 Bài 6: Subarray có độ dài nhỏ nhất có tổng ≥ K\n",
    "- Input: nums = [2,3,1,2,4,3], k = 7\n",
    "- Output: 2 (subarray [4,3])\n",
    "\n",
    "- Gợi ý: Sử dụng sliding window hai con trỏ.\n",
    "\n",
    "📘 Bài 7: Subarray có tổng bằng 0\n",
    "- Đề bài:\n",
    "- Kiểm tra xem mảng có tồn tại subarray không rỗng có tổng bằng 0 hay không.\n",
    "\n",
    "- Input: [4, 2, -3, 1, 6]\n",
    "- Output: True\n",
    "\n",
    "- Gợi ý: Dùng prefix sum + set để kiểm tra.\n",
    "\n",
    "📘 Bài 8: Đếm subarray có tổng nhỏ hơn K\n",
    "- Input: nums = [1, 2, 3], k = 4\n",
    "- Output: 4 ([1], [2], [1,2], [3])\n",
    "\n",
    "- Gợi ý: Dùng sliding window nếu mảng chỉ chứa số dương.\n",
    "\n",
    "📘 Bài 9: Subarray có tích nhỏ hơn K\n",
    "- Input: nums = [10, 5, 2, 6], k = 100\n",
    "- Output: 8\n",
    "\n",
    "- Gợi ý: Dùng sliding window + phép chia (vì tích tăng nhanh hơn tổng).\n",
    "\n",
    "📘 Bài 10: Subarray chứa ít nhất K số chẵn\n",
    "- Đề bài:\n",
    "- Cho mảng nums và số k, tìm số lượng subarray có ít nhất k số chẵn.\n",
    "\n",
    "- Gợi ý: Dùng two pointers + đếm số chẵn."
   ]
  }
 ],
 "metadata": {
  "kernelspec": {
   "display_name": "Python 3",
   "language": "python",
   "name": "python3"
  },
  "language_info": {
   "codemirror_mode": {
    "name": "ipython",
    "version": 3
   },
   "file_extension": ".py",
   "mimetype": "text/x-python",
   "name": "python",
   "nbconvert_exporter": "python",
   "pygments_lexer": "ipython3",
   "version": "3.13.2"
  }
 },
 "nbformat": 4,
 "nbformat_minor": 5
}
